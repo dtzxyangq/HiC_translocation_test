{
 "cells": [
  {
   "cell_type": "markdown",
   "metadata": {},
   "source": [
    "### 1. 文件读取"
   ]
  },
  {
   "cell_type": "code",
   "execution_count": 2,
   "metadata": {},
   "outputs": [
    {
     "name": "stdout",
     "output_type": "stream",
     "text": [
      "There are 26 '.npz' file in the path!\n",
      "They are ['Aiden_GM12878_Rep2_500000', 'Aiden_IMR90_Rep2_500000', 'Aiden_K562_500000', 'BIRM_BEP2D_500000', 'BIRM_BERP35T1_500000', 'BIRM_BERP35T4_500000', 'Dekker_A549_500000', 'Dekker_CAKI2_500000', 'Dekker_G401_500000', 'Dekker_LNCaP_500000', 'Dekker_NCIH460_500000', 'Dekker_PANC1_500000', 'Dekker_RPMI7951_500000', 'Dekker_SJCRH30_500000', 'Dekker_SKMEL5_500000', 'Dekker_SKNDZ_500000', 'Dekker_SK-N-MC_500000', 'Dekker_T47D_500000', 'Farnham_22RV1_500000', 'Farnham_C42B_500000', 'Farnham_RWPE1_500000', 'Lee_RPMI8226_H_500000', 'Lee_RPMI8226_M_500000', 'Lee_U266_H_500000', 'Lee_U266_M_500000', 'RenLab_IMR90_500000']\n"
     ]
    }
   ],
   "source": [
    "import os\n",
    "import numpy as np\n",
    "\n",
    "filepath = '../../Data/'\n",
    "\n",
    "pathDir =  os.listdir(filepath)\n",
    "data_index = []\n",
    "for i in pathDir:\n",
    "    if (i[i.rfind('.'):] == '.npz'):\n",
    "        data_name = i[:-4]\n",
    "        data_index.append(data_name)\n",
    "print(\"There are {0} \\'.npz\\' file in the path!\\nThey are {1}\".format(len(data_index), data_index))\n",
    "\n"
   ]
  },
  {
   "cell_type": "markdown",
   "metadata": {},
   "source": [
    "### 2. 子函数定义"
   ]
  },
  {
   "cell_type": "code",
   "execution_count": null,
   "metadata": {},
   "outputs": [],
   "source": []
  }
 ],
 "metadata": {
  "kernelspec": {
   "display_name": "Python 3",
   "language": "python",
   "name": "python3"
  },
  "language_info": {
   "codemirror_mode": {
    "name": "ipython",
    "version": 3
   },
   "file_extension": ".py",
   "mimetype": "text/x-python",
   "name": "python",
   "nbconvert_exporter": "python",
   "pygments_lexer": "ipython3",
   "version": "3.8.5"
  }
 },
 "nbformat": 4,
 "nbformat_minor": 4
}
